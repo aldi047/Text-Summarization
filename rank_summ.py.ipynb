{
 "cells": [
  {
   "cell_type": "markdown",
   "metadata": {},
   "source": [
    "## Text summarization (Senetnce Ranking)\n",
    "\n",
    "#### STEP 1 : Data cleaning ( removing non letter characters, turning to lower case letters )\n",
    "#### STEP 2 : Building Sentence Similarity Matrix\n",
    "#### STEP 3 : Sentence Ranking\n",
    "#### STEP 4 : Summary Generation"
   ]
  },
  {
   "cell_type": "markdown",
   "metadata": {},
   "source": [
    "## Initial Phase\n",
    "### Importing Libraries and Reading Data "
   ]
  },
  {
   "cell_type": "code",
   "execution_count": 81,
   "metadata": {},
   "outputs": [],
   "source": [
    "### importing the necessary libraries\n",
    "\n",
    "from nltk.corpus import stopwords\n",
    "from nltk.cluster.util import cosine_distance\n",
    "import numpy as np\n",
    "import pandas as pd\n",
    "import nltk\n",
    "import re\n",
    "from nltk.corpus import stopwords\n",
    "import networkx as nx\n",
    "from nltk.tokenize import  sent_tokenize"
   ]
  },
  {
   "cell_type": "code",
   "execution_count": 82,
   "metadata": {},
   "outputs": [
    {
     "data": {
      "text/plain": [
       "0      Quarterly profits at US media giant TimeWarne...\n",
       "1      The dollar has hit its highest level against ...\n",
       "2      The owners of embattled Russian oil giant Yuk...\n",
       "3      British Airways has blamed high fuel prices f...\n",
       "4      Shares in UK drinks and food firm Allied Dome...\n",
       "                            ...                        \n",
       "95     British energy firm Burren Energy has been aw...\n",
       "96     The US dollar's slide against the euro and ye...\n",
       "97     The International Monetary Fund is to cut its...\n",
       "98     US car firms General Motors (GM) and Ford hav...\n",
       "99     Former WorldCom chief Bernie Ebbers has denie...\n",
       "Name: content, Length: 100, dtype: object"
      ]
     },
     "execution_count": 82,
     "metadata": {},
     "output_type": "execute_result"
    }
   ],
   "source": [
    "### Reading the data file dan ambil 100 artikel pertama yang merupakan artikel bisnis\n",
    "\n",
    "df = pd.read_csv('Data/bbc-news-data.csv', delimiter = '\\t')\n",
    "df = df.head(100)\n",
    "df['content']"
   ]
  },
  {
   "cell_type": "code",
   "execution_count": 83,
   "metadata": {},
   "outputs": [],
   "source": [
    "## working with re ( regular expression in python)\n",
    "\n",
    "import re\n",
    "s = 'he&&&s'\n",
    "s = re.sub(\"[^a-zA-Z]\",\" \",s)"
   ]
  },
  {
   "cell_type": "markdown",
   "metadata": {},
   "source": [
    "## STEP 1 : Data Cleaning\n",
    "### Cleaning sentences, by removing Non Alphabet Characters and converting to Lower Case Letters"
   ]
  },
  {
   "cell_type": "code",
   "execution_count": 84,
   "metadata": {},
   "outputs": [],
   "source": [
    "### cleaning sentences, by removing non alphabet characters and converting to lower case letters\n",
    "\n",
    "dict = {}\n",
    "s = \"\"\n",
    "for a in df['content']:\n",
    "      s += a\n",
    "# print s\n",
    "s = s.lower()\n",
    "# print s\n",
    "\n",
    "sentences = sent_tokenize(s)\n",
    "# print sentences\n",
    "\n",
    "final = []\n",
    "\n",
    "for s in sentences:\n",
    "      temp = re.sub(\"[^a-zA-Z]\",\" \",s)\n",
    "      temp = temp.lower()\n",
    "      final.append(temp)\n",
    "      dict[temp] = s\n",
    "# printfinal "
   ]
  },
  {
   "cell_type": "markdown",
   "metadata": {},
   "source": [
    "## STEP 2 : Building Senetnce Similarity Matrix\n",
    "### Similarity is found using Cosine Similarity between vector representation of sentences"
   ]
  },
  {
   "cell_type": "code",
   "execution_count": 85,
   "metadata": {},
   "outputs": [],
   "source": [
    "### define method for calculating similarity\n",
    "\n",
    "def sentence_similarity(sent1, sent2, stopwords=None):\n",
    "    if stopwords is None:\n",
    "        stopwords = []\n",
    " \n",
    "    sent1 = [w.lower() for w in sent1]\n",
    "    sent2 = [w.lower() for w in sent2]\n",
    " \n",
    "    all_words = list(set(sent1 + sent2))\n",
    " \n",
    "    vector1 = [0] * len(all_words)\n",
    "    vector2 = [0] * len(all_words)\n",
    " \n",
    "    # build the vector for the first sentence\n",
    "    for w in sent1:\n",
    "        if w in stopwords:\n",
    "            continue\n",
    "        vector1[all_words.index(w)] += 1\n",
    " \n",
    "    # build the vector for the second sentence\n",
    "    for w in sent2:\n",
    "        if w in stopwords:\n",
    "            continue\n",
    "        vector2[all_words.index(w)] += 1\n",
    " \n",
    "    return 1 - cosine_distance(vector1, vector2)\n",
    "\n",
    "\n",
    "\n",
    "\n",
    "def build_similarity_matrix(sentences, stop_words):\n",
    "    # Create an empty similarity matrix\n",
    "    similarity_matrix = np.zeros((len(sentences), len(sentences)))\n",
    " \n",
    "    for idx1 in range(len(sentences)):\n",
    "        for idx2 in range(len(sentences)):\n",
    "            if idx1 == idx2: #ignore if both are same sentences\n",
    "                continue \n",
    "            similarity_matrix[idx1][idx2] = sentence_similarity(sentences[idx1], sentences[idx2], stop_words)\n",
    "    return similarity_matrix"
   ]
  },
  {
   "cell_type": "markdown",
   "metadata": {},
   "source": [
    "## STEP 3 : Sentence Ranking\n",
    "### Sentences are ranked using PageRank Algorithm on the Graph generated from the Sentence Similarity Matrix"
   ]
  },
  {
   "cell_type": "code",
   "execution_count": 86,
   "metadata": {},
   "outputs": [],
   "source": [
    "### generating the final summary : graph is generated using networkx library and cosine similarity matrix \n",
    "# containg adjacency list; after that sentences are scored using pagerank and sorted and stored in ranked_sentences\n",
    "\n",
    "    # Step 2 - Generate Similary Martix across sentences\n",
    "sentence_similarity_martix = build_similarity_matrix(final, '')\n",
    "\n",
    "    # Step 3 - Rank sentences in similarity martix\n",
    "sentence_similarity_graph = nx.from_numpy_array(sentence_similarity_martix)\n",
    "scores = nx.pagerank(sentence_similarity_graph)\n",
    "\n",
    "    # Step 4 - Sort the rank and pick top sentences\n",
    "ranked_sentence = sorted(((scores[i],s) for i,s in enumerate(final)), reverse=True)    \n",
    "# print type(ranked_sentence)\n",
    "# print(\"Indexes of top ranked_sentence order are \", ranked_sentence)    \n",
    "\n",
    "\n",
    "\n",
    "# Step 5 - Offcourse, output the summarize texr\n",
    "# print('Summarize Text: \\n', \". \".join(summarize_text))"
   ]
  },
  {
   "cell_type": "markdown",
   "metadata": {},
   "source": [
    "## STEP 4 : Summary Generation\n",
    "### Summary is outputted as the top 10 ranked sentences"
   ]
  },
  {
   "cell_type": "code",
   "execution_count": 87,
   "metadata": {},
   "outputs": [
    {
     "name": "stdout",
     "output_type": "stream",
     "text": [
      "figures released by the government's cabinet office showed that gdp, on an annualised basis, fell 0.5% in the last three months of 2004. however, politicians remain upbeat about prospects for an economic boost later in the year.\n"
     ]
    }
   ],
   "source": [
    "for i in range(1):\n",
    "     print(dict[ranked_sentence[i][1]])\n",
    "        \n",
    "# for i in range(10):\n",
    "#       summarize_text.append(\" \".join(ranked_sentence[i][1]))"
   ]
  },
  {
   "cell_type": "code",
   "execution_count": null,
   "metadata": {},
   "outputs": [],
   "source": []
  }
 ],
 "metadata": {
  "kernelspec": {
   "display_name": "virtualenv",
   "language": "python",
   "name": "virtualenv"
  },
  "language_info": {
   "codemirror_mode": {
    "name": "ipython",
    "version": 3
   },
   "file_extension": ".py",
   "mimetype": "text/x-python",
   "name": "python",
   "nbconvert_exporter": "python",
   "pygments_lexer": "ipython3",
   "version": "3.10.12"
  }
 },
 "nbformat": 4,
 "nbformat_minor": 4
}
